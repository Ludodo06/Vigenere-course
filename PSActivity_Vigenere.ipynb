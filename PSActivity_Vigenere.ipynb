{
 "cells": [
  {
   "cell_type": "markdown",
   "metadata": {},
   "source": [
    "**_TO GO TROUGH THIS ACTIVITY, PRESS SHIFT+ENTER_**\n",
    "\n",
    "*If you struggle to use a jupyter notebook, do not hesitate to ask for help*"
   ]
  },
  {
   "cell_type": "code",
   "execution_count": null,
   "metadata": {},
   "outputs": [],
   "source": [
    "!pip install matplotlib\n",
    "from utility import *"
   ]
  },
  {
   "cell_type": "markdown",
   "metadata": {},
   "source": [
    "# The Vigenère Cipher: The Apprentice\n",
    "\n",
    "*You linger outside the renowned cryptographer, Master Alaric's enigmatic office, determined to become his apprentice despite countless rejections. Each attempt to catch his interest has fallen flat. As you're once again dismissed, desperation sets in. However, a piece of paper on the floor catches your eye, an encrypted note that might hold the key to winning over the cryptic master.*\n",
    "\n",
    "You know that the note has been encoded with the Vigenère cipher, Master Alaric's favorite,and you believe it could hold a clue on how to capture the master's attention. Will you be able to break this cipher?"
   ]
  },
  {
   "cell_type": "markdown",
   "metadata": {},
   "source": [
    "Here is the note:\n",
    "***\n",
    "*KHOHGGCSXOQYSFBCDOWOQFRNKCETFRCEGIQJTUBRGCJUOGDOHGJTZFVYSSHDNWONRPNSCVCHOWUQHRUKQDHIIIZZXHPOOZIQOWFVDPGCGGEVY\n",
    "OCVSVHPPONKVSSNUGPGZOWEHYUKYUUQFOOHFKYUCQVSSVUGPNYFQYHCQWZIMDUEVYVVLFMWJLHMKKYSUQFEKCQMWSIQVSSGLNVMQDAEVYBUEF\n",
    "YWESSXLPYSPHTPBXLPRZCQGLZIQIEVYPCCUCQQQOVDAESHWJZIMDPOGUZKLHUJNLBWHVZGMLPRHBHKCVYDFDWHVRCWAKVWMXDPNSNKGHOPHUM\n",
    "SMLFPHBHOOOHFGOPOWVSSSRWERCGVSSMSCCYFLPRKUYGDWHJNPSUSQPHWRWWRHRVMINEGROSLPDIWKCUCWXPOQIPRLBSLILNYGCYRADBPRVXV\n",
    "WWNWNPHBRWRVNZJLHQHCWHBWJPGBRYECGHJLRVUQFUBWHZFIIVHVYQQYASFQFQBLNTSCQXLQUQVZFCQRPBMLXPAIRFEVYBHWOMKWACHWJLHC\n",
    "QYLFXHAPKBLESWMWJPPFLUDCZVQWWNXFPOHGVSSHPASSUUVHWNKRWSUVWCSZLNWGUQFOOHFGDKCWJEVYGCQTIGKWG*\n",
    "***\n"
   ]
  },
  {
   "cell_type": "markdown",
   "metadata": {},
   "source": [
    "On your journey to becoming a cryptographer, you have found many tools to help you.\n",
    "Let's have a look at them:"
   ]
  },
  {
   "cell_type": "markdown",
   "metadata": {},
   "source": [
    "## Vigenère decoder \n",
    "If you have already found the key, you can directly try to decrypt the text using the function decrypt_vigenere; for example, if you think that the secret key is *abc*, just write it as follows: "
   ]
  },
  {
   "cell_type": "code",
   "execution_count": null,
   "metadata": {},
   "outputs": [],
   "source": [
    "secret_key = \"abc\"\n",
    "decrypt_vigenere(secret_key)"
   ]
  },
  {
   "cell_type": "markdown",
   "metadata": {},
   "source": [
    "## Frequency Analysis\n",
    "You have the tools you collected from breaking the ceasar cipher, namely the frequency distribution of letters in the english language, and a tool that will plot the frequency of letters in a given text.\n",
    "Could they be useful? "
   ]
  },
  {
   "attachments": {
    "englishDistr.jpg": {
     "image/jpeg": "[encoded data removed]"
    }
   },
   "cell_type": "markdown",
   "metadata": {},
   "source": [
    "### Frequency distribution of english: \n",
    "![englishDistr.jpg](attachment:englishDistr.jpg)\n",
    "\n",
    "### Frequency distribution of given text:"
   ]
  },
  {
   "cell_type": "code",
   "execution_count": null,
   "metadata": {
    "scrolled": true
   },
   "outputs": [],
   "source": [
    "given_text = \"abcdefghijklmnopqrstuvwxyz\"\n",
    "plot_letters_frequency_analysis(given_text)"
   ]
  },
  {
   "cell_type": "markdown",
   "metadata": {},
   "source": [
    "## Letters\n",
    "You have two tools to extract letters from a sequence:\n",
    "\n",
    "#### Extract characters \n",
    "This tool will print out a sequence of letters extracted from the cipher.  \n",
    "\n",
    "*For example in the case bellow, it will extract the first letter every three letters (so the 1st, the 4th, the 7th etc..).*\n",
    "\n",
    "*(If number were 2 and every was 2, we would extract the second letter every 2 letters, hence we would get all letters at even positions.)*\n"
   ]
  },
  {
   "cell_type": "code",
   "execution_count": null,
   "metadata": {},
   "outputs": [],
   "source": [
    "number = 1\n",
    "every = 3\n",
    "\n",
    "extract_characters(CIPHER,number,every)"
   ]
  },
  {
   "cell_type": "markdown",
   "metadata": {},
   "source": [
    "#### Find letters in sequence\n",
    "This tool will highlight the letter sequence given if it is found in the text."
   ]
  },
  {
   "cell_type": "code",
   "execution_count": null,
   "metadata": {},
   "outputs": [],
   "source": [
    "sequence_to_find = \"OHFG\"\n",
    "find_letters_in_string(CIPHER, sequence_to_find)"
   ]
  },
  {
   "cell_type": "code",
   "execution_count": null,
   "metadata": {},
   "outputs": [],
   "source": [
    "# You can use these tools together etc.........."
   ]
  },
  {
   "cell_type": "code",
   "execution_count": null,
   "metadata": {},
   "outputs": [],
   "source": []
  }
 ],
 "metadata": {
  "kernelspec": {
   "display_name": "Python 3 (ipykernel)",
   "language": "python",
   "name": "python3"
  },
  "language_info": {
   "codemirror_mode": {
    "name": "ipython",
    "version": 3
   },
   "file_extension": ".py",
   "mimetype": "text/x-python",
   "name": "python",
   "nbconvert_exporter": "python",
   "pygments_lexer": "ipython3",
   "version": "3.10.7"
  }
 },
 "nbformat": 4,
 "nbformat_minor": 2
}
